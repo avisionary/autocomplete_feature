{
 "cells": [
  {
   "cell_type": "code",
   "execution_count": null,
   "metadata": {},
   "outputs": [],
   "source": [
    "import mailbox\n",
    "import csv\n",
    "\n",
    "mbox_file = '../Takeout/Mail/All mail Including Spam and Trash.mbox'\n",
    "\n",
    "with open('clean_mail_B.csv', 'w', newline='', encoding='utf-8') as f_output:\n",
    "    # Create a column for the first 30 message payload sections\n",
    "    fieldnames = {f'Part{part:02}' for part in range(1, 31)}\n",
    "\n",
    "    for message in mailbox.mbox(mbox_file):\n",
    "        fieldnames.update(message.keys())\n",
    "\n",
    "    csv_output = csv.DictWriter(f_output, fieldnames=sorted(fieldnames), restval='', extrasaction='ignore')\n",
    "    csv_output.writeheader()\n",
    "\n",
    "    for message in mailbox.mbox(mbox_file):\n",
    "        items = dict(message.items())\n",
    "\n",
    "        for part, payload in enumerate(message.get_payload(), start=1):\n",
    "            items[f'Part{part:02}'] = payload\n",
    "\n",
    "        csv_output.writerow(items)"
   ]
  }
 ],
 "metadata": {
  "kernelspec": {
   "display_name": "Python 3.9.9 ('anly503')",
   "language": "python",
   "name": "python3"
  },
  "language_info": {
   "name": "python",
   "version": "3.9.9"
  },
  "orig_nbformat": 4,
  "vscode": {
   "interpreter": {
    "hash": "82b101a996fc2efaf104f8f93a1fdeafc49f9be5ea2db7dddfe4c36f648bcac9"
   }
  }
 },
 "nbformat": 4,
 "nbformat_minor": 2
}
